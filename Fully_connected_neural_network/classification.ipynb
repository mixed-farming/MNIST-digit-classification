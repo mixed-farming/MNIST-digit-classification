{
  "cells": [
    {
      "attachments": {},
      "cell_type": "markdown",
      "metadata": {
        "id": "iqbzsNvuT98C"
      },
      "source": [
        "# Task 1: Introduction\n",
        "\n",
        "Welcome to Basic Image Classification with TensorFlow.\n",
        "\n",
        "This graph describes the problem that we are trying to solve visually. We want to create and train a model that takes an image of a hand written digit as input and predicts the class of that digit, that is, it predicts the digit or it predicts the class of the input image.\n",
        "\n",
        "![Hand Written Digits Classification](\img\1_1.png)"
      ]
    },
    {
      "attachments": {},
      "cell_type": "markdown",
      "metadata": {
        "id": "VQRUFxW3UKyo"
      },
      "source": [
        "### Import TenserFlow"
      ]
    },
    {
      "cell_type": "code",
      "execution_count": null,
      "metadata": {
        "id": "MJsGAJUpUPm7"
      },
      "outputs": [],
      "source": [
        "import tensorflow as tf\n",
        "tf.config.run_functions_eagerly(True)\n",
        "\n",
        "tf.logging.set_verbosity(tf.logging.ERROR)\n",
        "print('Using TensorFlow version', tf.__version__)"
      ]
    },
    {
      "attachments": {},
      "cell_type": "markdown",
      "metadata": {
        "id": "hxAdZBGcXq76"
      },
      "source": [
        "# Task 2: The Dataset\n",
        "\n",
        "### Import MNIST"
      ]
    },
    {
      "cell_type": "code",
      "execution_count": 50,
      "metadata": {
        "id": "qH1GdzTjXvKV"
      },
      "outputs": [],
      "source": [
        "import tensorflow as tf\n",
        "tf.config.run_functions_eagerly(True)\n",
        "\n",
        "from tensorflow.keras.datasets import mnist\n",
        "(x_train, y_train), (x_test, y_test) = mnist.load_data()\n",
        "# print(x_train)"
      ]
    },
    {
      "attachments": {},
      "cell_type": "markdown",
      "metadata": {
        "id": "0DrixDK3acAB"
      },
      "source": [
        "### Shapes of Imported Arrays\n",
        "\n"
      ]
    },
    {
      "cell_type": "code",
      "execution_count": 51,
      "metadata": {
        "colab": {
          "base_uri": "https://localhost:8080/"
        },
        "id": "uoIkA9uLa-Dg",
        "outputId": "9204f82e-f66b-49dd-c8ef-a8266389a5e9"
      },
      "outputs": [
        {
          "name": "stdout",
          "output_type": "stream",
          "text": [
            "x_train shape :  (60000, 28, 28)\n",
            "y_train shape :  (60000,)\n",
            "x_test shape :  (10000, 28, 28)\n",
            "y_test shape :  (10000,)\n"
          ]
        }
      ],
      "source": [
        "print('x_train shape : ',x_train.shape)\n",
        "print('y_train shape : ',y_train.shape)\n",
        "print('x_test shape : ',x_test.shape)\n",
        "print('y_test shape : ',y_test.shape)"
      ]
    },
    {
      "attachments": {},
      "cell_type": "markdown",
      "metadata": {
        "id": "0ds5pT2ObE4V"
      },
      "source": [
        "### Plot an Image Example"
      ]
    },
    {
      "cell_type": "code",
      "execution_count": 52,
      "metadata": {
        "colab": {
          "base_uri": "https://localhost:8080/",
          "height": 761
        },
        "id": "dgYSP9cDbIIA",
        "outputId": "d115f396-b98d-4b4c-fb9e-12e9886d4439"
      },
      "outputs": [
        {
          "data": {
            "image/png": "iVBORw0KGgoAAAANSUhEUgAAAPsAAAD4CAYAAAAq5pAIAAAABHNCSVQICAgIfAhkiAAAAAlwSFlzAAALEgAACxIB0t1+/AAAADh0RVh0U29mdHdhcmUAbWF0cGxvdGxpYiB2ZXJzaW9uMy4yLjIsIGh0dHA6Ly9tYXRwbG90bGliLm9yZy+WH4yJAAAOZ0lEQVR4nO3dbYxc5XnG8euKbezamMQbB9chLjjgFAg0Jl0ZEBZQobgOqgSoCsSKIkJpnSY4Ca0rQWlV3IpWbpUQUUqRTHExFS+BBIQ/0CTUQpCowWWhBgwEDMY0NmaNWYENIX5Z3/2w42iBnWeXmTMv3vv/k1Yzc+45c24NXD5nznNmHkeEAIx/H+p0AwDag7ADSRB2IAnCDiRB2IEkJrZzY4d5ckzRtHZuEkjlV3pbe2OPR6o1FXbbiyVdJ2mCpH+LiJWl50/RNJ3qc5rZJICC9bGubq3hw3jbEyTdIOnzkk6UtMT2iY2+HoDWauYz+wJJL0TE5ojYK+lOSedV0xaAqjUT9qMk/WLY4621Ze9ie6ntPtt9+7Snic0BaEbLz8ZHxKqI6I2I3kma3OrNAaijmbBvkzRn2ONP1JYB6ELNhP1RSfNsz7V9mKQvSlpbTVsAqtbw0FtE7Le9TNKPNDT0tjoinq6sMwCVamqcPSLul3R/Rb0AaCEulwWSIOxAEoQdSIKwA0kQdiAJwg4kQdiBJAg7kARhB5Ig7EAShB1IgrADSRB2IAnCDiRB2IEkCDuQBGEHkiDsQBKEHUiCsANJEHYgCcIOJEHYgSQIO5AEYQeSIOxAEoQdSIKwA0kQdiCJpmZxRffzxPJ/4gkfm9nS7T/3F8fUrQ1OPVBc9+hjdxTrU7/uYv3Vaw+rW3u893vFdXcOvl2sn3r38mL9uD9/pFjvhKbCbnuLpN2SBiXtj4jeKpoCUL0q9uy/FxE7K3gdAC3EZ3YgiWbDHpJ+bPsx20tHeoLtpbb7bPft054mNwegUc0exi+MiG22j5T0gO2fR8TDw58QEaskrZKkI9wTTW4PQIOa2rNHxLba7Q5J90paUEVTAKrXcNhtT7M9/eB9SYskbayqMQDVauYwfpake20ffJ3bI+KHlXQ1zkw4YV6xHpMnFeuvnPWRYv2d0+qPCfd8uDxe/JPPlMebO+k/fzm9WP/Hf1lcrK8/+fa6tZf2vVNcd2X/54r1j//k0PtE2nDYI2KzpM9U2AuAFmLoDUiCsANJEHYgCcIOJEHYgST4imsFBs/+bLF+7S03FOufmlT/q5jj2b4YLNb/5vqvFOsT3y4Pf51+97K6tenb9hfXnbyzPDQ3tW99sd6N2LMDSRB2IAnCDiRB2IEkCDuQBGEHkiDsQBKMs1dg8nOvFOuP/WpOsf6pSf1VtlOp5dtPK9Y3v1X+Kepbjv1+3dqbB8rj5LP++b+L9VY69L7AOjr27EAShB1IgrADSRB2IAnCDiRB2IEkCDuQhCPaN6J4hHviVJ/Ttu11i4FLTi/Wdy0u/9zzhCcPL9af+Pr1H7ing67Z+TvF+qNnlcfRB994s1iP0+v/APGWbxZX1dwlT5SfgPdZH+u0KwZGnMuaPTuQBGEHkiDsQBKEHUiCsANJEHYgCcIOJME4exeYMPOjxfrg6wPF+ku31x8rf/rM1cV1F/zDN4r1I2/o3HfK8cE1Nc5ue7XtHbY3DlvWY/sB25tqtzOqbBhA9cZyGH+LpPfOen+lpHURMU/SutpjAF1s1LBHxMOS3nsceZ6kNbX7aySdX3FfACrW6G/QzYqI7bX7r0qaVe+JtpdKWipJUzS1wc0BaFbTZ+Nj6Axf3bN8EbEqInojoneSJje7OQANajTs/bZnS1Ltdkd1LQFohUbDvlbSxbX7F0u6r5p2ALTKqJ/Zbd8h6WxJM21vlXS1pJWS7rJ9qaSXJV3YyibHu8Gdrze1/r5djc/v/ukvPVOsv3bjhPILHCjPsY7uMWrYI2JJnRJXxwCHEC6XBZIg7EAShB1IgrADSRB2IAmmbB4HTrji+bq1S04uD5r8+9HrivWzvnBZsT79e48U6+ge7NmBJAg7kARhB5Ig7EAShB1IgrADSRB2IAnG2ceB0rTJr3/thOK6/7f2nWL9ymtuLdb/8sILivX43w/Xrc35+58V11Ubf+Y8A/bsQBKEHUiCsANJEHYgCcIOJEHYgSQIO5AEUzYnN/BHpxfrt1397WJ97sQpDW/707cuK9bn3bS9WN+/eUvD2x6vmpqyGcD4QNiBJAg7kARhB5Ig7EAShB1IgrADSTDOjqI4Y36xfsTKrcX6HZ/8UcPbPv7BPy7Wf/tv63+PX5IGN21ueNuHqqbG2W2vtr3D9sZhy1bY3mZ7Q+3v3CobBlC9sRzG3yJp8QjLvxsR82t/91fbFoCqjRr2iHhY0kAbegHQQs2coFtm+8naYf6Mek+yvdR2n+2+fdrTxOYANKPRsN8o6VhJ8yVtl/Sdek+MiFUR0RsRvZM0ucHNAWhWQ2GPiP6IGIyIA5JukrSg2rYAVK2hsNuePezhBZI21nsugO4w6ji77TsknS1ppqR+SVfXHs+XFJK2SPpqRJS/fCzG2cejCbOOLNZfuei4urX1V1xXXPdDo+yLvvTSomL9zYWvF+vjUWmcfdRJIiJiyQiLb266KwBtxeWyQBKEHUiCsANJEHYgCcIOJMFXXNExd20tT9k81YcV67+MvcX6H3zj8vqvfe/64rqHKn5KGgBhB7Ig7EAShB1IgrADSRB2IAnCDiQx6rfekNuBheWfkn7xC+Upm0+av6VubbRx9NFcP3BKsT71vr6mXn+8Yc8OJEHYgSQIO5AEYQeSIOxAEoQdSIKwA0kwzj7OufekYv35b5bHum86Y02xfuaU8nfKm7En9hXrjwzMLb/AgVF/3TwV9uxAEoQdSIKwA0kQdiAJwg4kQdiBJAg7kATj7IeAiXOPLtZfvOTjdWsrLrqzuO4fHr6zoZ6qcFV/b7H+0HWnFesz1pR/dx7vNuqe3fYc2w/afsb207a/VVveY/sB25tqtzNa3y6ARo3lMH6/pOURcaKk0yRdZvtESVdKWhcR8yStqz0G0KVGDXtEbI+Ix2v3d0t6VtJRks6TdPBayjWSzm9VkwCa94E+s9s+RtIpktZLmhURBy8+flXSrDrrLJW0VJKmaGqjfQJo0pjPxts+XNIPJF0eEbuG12JodsgRZ4iMiFUR0RsRvZM0ualmATRuTGG3PUlDQb8tIu6pLe63PbtWny1pR2taBFCFUQ/jbVvSzZKejYhrh5XWSrpY0sra7X0t6XAcmHjMbxXrb/7u7GL9or/7YbH+px+5p1hvpeXby8NjP/vX+sNrPbf8T3HdGQcYWqvSWD6znyHpy5Kesr2htuwqDYX8LtuXSnpZ0oWtaRFAFUYNe0T8VNKIk7tLOqfadgC0CpfLAkkQdiAJwg4kQdiBJAg7kARfcR2jibN/s25tYPW04rpfm/tQsb5ken9DPVVh2baFxfrjN5anbJ75/Y3Fes9uxsq7BXt2IAnCDiRB2IEkCDuQBGEHkiDsQBKEHUgizTj73t8v/2zx3j8bKNavOu7+urVFv/F2Qz1VpX/wnbq1M9cuL657/F//vFjveaM8Tn6gWEU3Yc8OJEHYgSQIO5AEYQeSIOxAEoQdSIKwA0mkGWffcn7537XnT767Zdu+4Y1ji/XrHlpUrHuw3o/7Djn+mpfq1ub1ry+uO1isYjxhzw4kQdiBJAg7kARhB5Ig7EAShB1IgrADSTgiyk+w50i6VdIsSSFpVURcZ3uFpD+R9FrtqVdFRP0vfUs6wj1xqpn4FWiV9bFOu2JgxAszxnJRzX5JyyPicdvTJT1m+4Fa7bsR8e2qGgXQOmOZn327pO21+7ttPyvpqFY3BqBaH+gzu+1jJJ0i6eA1mMtsP2l7te0ZddZZarvPdt8+7WmqWQCNG3PYbR8u6QeSLo+IXZJulHSspPka2vN/Z6T1ImJVRPRGRO8kTa6gZQCNGFPYbU/SUNBvi4h7JCki+iNiMCIOSLpJ0oLWtQmgWaOG3bYl3Szp2Yi4dtjy2cOedoGk8nSeADpqLGfjz5D0ZUlP2d5QW3aVpCW252toOG6LpK+2pEMAlRjL2fifShpp3K44pg6gu3AFHZAEYQeSIOxAEoQdSIKwA0kQdiAJwg4kQdiBJAg7kARhB5Ig7EAShB1IgrADSRB2IIlRf0q60o3Zr0l6ediimZJ2tq2BD6Zbe+vWviR6a1SVvR0dER8bqdDWsL9v43ZfRPR2rIGCbu2tW/uS6K1R7eqNw3ggCcIOJNHpsK/q8PZLurW3bu1LordGtaW3jn5mB9A+nd6zA2gTwg4k0ZGw215s+znbL9i+shM91GN7i+2nbG+w3dfhXlbb3mF747BlPbYfsL2pdjviHHsd6m2F7W21926D7XM71Nsc2w/afsb207a/VVve0feu0Fdb3re2f2a3PUHS85I+J2mrpEclLYmIZ9raSB22t0jqjYiOX4Bh+0xJb0m6NSJOqi37J0kDEbGy9g/ljIi4okt6WyHprU5P412brWj28GnGJZ0v6Svq4HtX6OtCteF968SefYGkFyJic0TslXSnpPM60EfXi4iHJQ28Z/F5ktbU7q/R0P8sbVent64QEdsj4vHa/d2SDk4z3tH3rtBXW3Qi7EdJ+sWwx1vVXfO9h6Qf237M9tJONzOCWRGxvXb/VUmzOtnMCEadxrud3jPNeNe8d41Mf94sTtC938KI+Kykz0u6rHa42pVi6DNYN42djmka73YZYZrxX+vke9fo9OfN6kTYt0maM+zxJ2rLukJEbKvd7pB0r7pvKur+gzPo1m53dLifX+umabxHmmZcXfDedXL6806E/VFJ82zPtX2YpC9KWtuBPt7H9rTaiRPZniZpkbpvKuq1ki6u3b9Y0n0d7OVdumUa73rTjKvD713Hpz+PiLb/STpXQ2fkX5T0V53ooU5fn5T0RO3v6U73JukODR3W7dPQuY1LJX1U0jpJmyT9l6SeLurtPyQ9JelJDQVrdod6W6ihQ/QnJW2o/Z3b6feu0Fdb3jculwWS4AQdkARhB5Ig7EAShB1IgrADSRB2IAnCDiTx/65XcTNOWsh5AAAAAElFTkSuQmCC",
            "text/plain": [
              "<Figure size 432x288 with 1 Axes>"
            ]
          },
          "metadata": {
            "needs_background": "light"
          },
          "output_type": "display_data"
        },
        {
          "data": {
            "image/png": "iVBORw0KGgoAAAANSUhEUgAAAPsAAAD4CAYAAAAq5pAIAAAABHNCSVQICAgIfAhkiAAAAAlwSFlzAAALEgAACxIB0t1+/AAAADh0RVh0U29mdHdhcmUAbWF0cGxvdGxpYiB2ZXJzaW9uMy4yLjIsIGh0dHA6Ly9tYXRwbG90bGliLm9yZy+WH4yJAAAN6UlEQVR4nO3df6zddX3H8dcLvGXQsgIyaldQlFWRmFHIhRBBhBER2Ja2LjCbhXWRpG7AhtO5dWwTtjitFawjYyxXIXas1mCwo2GNAtWsoMK4kNKf/OgIRWpp0YYCk9kW3vvjfiEXes/n3J7v+cV9Px/JyTnn+z7f83nnpK9+z/l+zrkfR4QATHwH9boBAN1B2IEkCDuQBGEHkiDsQBJv6+ZgA5OmxiGHvaObQwKp/PIXz2rvnt0eq1Yr7LYvkPRPkg6W9PWIWFR6/CGHvUMnf2iozpAACh65d0HDWstv420fLOlGSRdKOknSPNsntfp8ADqrzmf20yVtiYgnI2KPpG9Jmt2etgC0W52wz5D0k1H3n6m2vYHtBbaHbQ/v3bO7xnAA6uj42fiIGIqIwYgYHJg0tdPDAWigTti3STpu1P1jq20A+lCdsD8oaabtd9ueJOnjkla2py0A7dby1FtE7LN9paTvaWTq7ZaI2Ni2zgC0Va159ohYJWlVm3oB0EF8XRZIgrADSRB2IAnCDiRB2IEkCDuQBGEHkiDsQBKEHUiCsANJEHYgCcIOJEHYgSQIO5AEYQeSIOxAEoQdSIKwA0kQdiAJwg4kQdiBJLq6ZDM647SPnNqwdtmF/1vc91ev+5Ni/ZiL5xTrW9710WK95Kq/fbpY/+UvXm75ubE/juxAEoQdSIKwA0kQdiAJwg4kQdiBJAg7kATz7G8BX1w0WKy/7Q8/3LC29dMv1hv85k1NHvCFlp969opHi/Xbhta0/NzYX62w235K0ouSXpG0LyLK/yoB9Ew7juznRsTP2vA8ADqIz+xAEnXDHpLusv2Q7QVjPcD2AtvDtof37tldczgArar7Nv6siNhm+xhJd9t+NCLecFYlIoYkDUnSlCPeFzXHA9CiWkf2iNhWXe+UtELS6e1oCkD7tRx225NtH/7abUnnS9rQrsYAtFedt/HTJK2w/drzfDMivtuWrvAGS276abH+D9OnNKzteqTmPHsHffDLHyzWB67+UbG+7Ebm4Q9Ey2GPiCclndzGXgB0EFNvQBKEHUiCsANJEHYgCcIOJMFPXN8Cdm4tT709/6U7G9amPn12cd/dm8p/avrEeb9RrD+6fEuxXrLjR7uK9YuPfaBYX9byyDlxZAeSIOxAEoQdSIKwA0kQdiAJwg4kQdiBJJhnnwAWLnyoYe0/5swq7vvAph8W64fPeHuT0VufZ2/m6pXlOX5pY8fGnog4sgNJEHYgCcIOJEHYgSQIO5AEYQeSIOxAEsyzT3Dfv+Drxfp5B425atfr7v/8ve1s54AcOnlSz8aeiDiyA0kQdiAJwg4kQdiBJAg7kARhB5Ig7EASzLNPcDd8sTxPvuL9nyvv/5d/V6z/9+L7D7in8Vo8c3mxft49J3Zs7Imo6ZHd9i22d9reMGrbUbbvtv1EdX1kZ9sEUNd43sZ/Q9IFb9q2UNLqiJgpaXV1H0Afaxr2iFgj6c3r9MyWtLS6vVTSnDb3BaDNWj1BNy0itle3n5U0rdEDbS+wPWx7eO+e3S0OB6Cu2mfjIyIkRaE+FBGDETE4MGlq3eEAtKjVsO+wPV2Squud7WsJQCe0GvaVkuZXt+dLuqM97QDolKbz7LaXSzpH0tG2n5F0jaRFkm6zfZmkrZIu6WSTaN3Ca84s1k+bvK5YHz61vEZ6J2084eImj1jflT4miqZhj4h5DUrntbkXAB3E12WBJAg7kARhB5Ig7EAShB1Igp+4vgWc+lunFOt//XTjPwe94bcvL+47/PN9LfXUDf96+6u9bmFC4cgOJEHYgSQIO5AEYQeSIOxAEoQdSIKwA0kwz/4WcMbg4cX6Yzdualjb08fz6M186aKNxfrv/rhLjUwQHNmBJAg7kARhB5Ig7EAShB1IgrADSRB2IAnm2d8C/mXxmmJ9yZ3/1bDmuecU933pif9rpaWuOOynjzZ5BEs2HwiO7EAShB1IgrADSRB2IAnCDiRB2IEkCDuQBPPsE8Cff7bxssvzb1hb3PeYI16pNfbAwVGsH31F4yWjn3twd62xcWCaHtlt32J7p+0No7Zda3ub7bXV5aLOtgmgrvG8jf+GpAvG2L4kImZVl1XtbQtAuzUNe0SskbSrC70A6KA6J+iutL2uept/ZKMH2V5ge9j28N49fEYDeqXVsN8k6QRJsyRtl3R9owdGxFBEDEbE4MCkqS0OB6CulsIeETsi4pWIeFXS1ySd3t62ALRbS2G3PX3U3bmSNjR6LID+0HSe3fZySedIOtr2M5KukXSO7VmSQtJTkj7ZwR5Rw9Ibyr+Fr8t2sX7rrcsa1p478XeK++6447vF+nsH5xTrjw83+z18Lk3DHhHzxth8cwd6AdBBfF0WSIKwA0kQdiAJwg4kQdiBJPiJK2o5ZPKhxfrGJtNrJQOHHVKs79tb7+e52XBkB5Ig7EAShB1IgrADSRB2IAnCDiRB2IEkmGdHLcs+Vz5eDH+79ed+7vIbivUnP7259SdPiCM7kARhB5Ig7EAShB1IgrADSRB2IAnCDiTBPPs4TTt+RsPaN8+9s7jv9955ZbG++O9/2FJP3fDOk95TrG/9xO91bOx//jbHonbi1QSSIOxAEoQdSIKwA0kQdiAJwg4kQdiBJJhnH6dlcx9oWLvn/JuK+w5e8eNife4nlhfrWx5/vlhff9/6hrVzP3ZGcd/BDxxcrJ/1n39crN//4O5iveS0df9erH/1H7e2/NzYX9Mju+3jbP/A9ibbG21fVW0/yvbdtp+oro/sfLsAWjWet/H7JH0mIk6SdIakK2yfJGmhpNURMVPS6uo+gD7VNOwRsT0iHq5uvyhps6QZkmZLWlo9bKmkOZ1qEkB9B3SCzvbxkk6R9ICkaRGxvSo9K2lag30W2B62Pbx3T+uf7wDUM+6w254i6XZJn4qIF0bXIiIkxVj7RcRQRAxGxODApKm1mgXQunGF3faARoK+LCK+U23eYXt6VZ8uaWdnWgTQDk2n3mxb0s2SNkfEV0aVVkqaL2lRdX1HRzrsE9fv+P2GtT/78nBx3zWfXVWsn3jj+4v1j1363mJ9+qVnN6ytve4vivv+/OEXivX7i1XpoAEX66dcfmrD2vzFk4r7vvxCecoRB2Y88+xnSrpU0nrba6ttV2sk5LfZvkzSVkmXdKZFAO3QNOwRcZ+kRv99n9fedgB0Cl+XBZIg7EAShB1IgrADSRB2IAmPfPmtO6Yc8b44+UNDXRuvW1YsOrRYf9zlefTnf3Owne101a9/+Ohi/U8P+0KXOoEkPXLvAr30/GNjzp5xZAeSIOxAEoQdSIKwA0kQdiAJwg4kQdiBJPhT0m0wd+HLxfqvTHm0WF+yeU2t8Wc+fVfD2uqPfr7Wcx9zRvmPBt/+B98vP8GKZr+IR7dwZAeSIOxAEoQdSIKwA0kQdiAJwg4kQdiBJPg9OzCB8Ht2AIQdyIKwA0kQdiAJwg4kQdiBJAg7kETTsNs+zvYPbG+yvdH2VdX2a21vs722ulzU+XYBtGo8f7xin6TPRMTDtg+X9JDtu6vakoi4rnPtAWiX8azPvl3S9ur2i7Y3S5rR6cYAtNcBfWa3fbykUyQ9UG260vY627fYHvPvF9leYHvY9vDePbtrNQugdeMOu+0pkm6X9KmIeEHSTZJOkDRLI0f+68faLyKGImIwIgYHJk1tQ8sAWjGusNse0EjQl0XEdyQpInZExCsR8aqkr0k6vXNtAqhrPGfjLelmSZsj4iujtk8f9bC5kja0vz0A7TKes/FnSrpU0nrba6ttV0uaZ3uWpJD0lKRPdqRDAG0xnrPx90ka6/exq9rfDoBO4Rt0QBKEHUiCsANJEHYgCcIOJEHYgSQIO5AEYQeSIOxAEoQdSIKwA0kQdiAJwg4kQdiBJLq6ZLPt5yRtHbXpaEk/61oDB6Zfe+vXviR6a1U7e3tXRPzaWIWuhn2/we3hiBjsWQMF/dpbv/Yl0VurutUbb+OBJAg7kESvwz7U4/FL+rW3fu1LordWdaW3nn5mB9A9vT6yA+gSwg4k0ZOw277A9mO2t9he2IseGrH9lO311TLUwz3u5RbbO21vGLXtKNt3236iuh5zjb0e9dYXy3gXlhnv6WvX6+XPu/6Z3fbBkh6X9BFJz0h6UNK8iNjU1UYasP2UpMGI6PkXMGyfLeklSf8WER+oti2WtCsiFlX/UR4ZEX/VJ71dK+mlXi/jXa1WNH30MuOS5kj6I/XwtSv0dYm68Lr14sh+uqQtEfFkROyR9C1Js3vQR9+LiDWSdr1p82xJS6vbSzXyj6XrGvTWFyJie0Q8XN1+UdJry4z39LUr9NUVvQj7DEk/GXX/GfXXeu8h6S7bD9le0OtmxjAtIrZXt5+VNK2XzYyh6TLe3fSmZcb75rVrZfnzujhBt7+zIuJUSRdKuqJ6u9qXYuQzWD/NnY5rGe9uGWOZ8df18rVrdfnzunoR9m2Sjht1/9hqW1+IiG3V9U5JK9R/S1HveG0F3ep6Z4/7eV0/LeM91jLj6oPXrpfLn/ci7A9Kmmn73bYnSfq4pJU96GM/tidXJ05ke7Kk89V/S1GvlDS/uj1f0h097OUN+mUZ70bLjKvHr13Plz+PiK5fJF2kkTPy/yPpb3rRQ4O+3iPpkeqysde9SVqukbd1ezVybuMySW+XtFrSE5LukXRUH/V2q6T1ktZpJFjTe9TbWRp5i75O0trqclGvX7tCX1153fi6LJAEJ+iAJAg7kARhB5Ig7EAShB1IgrADSRB2IIn/B/29IF7usUXVAAAAAElFTkSuQmCC",
            "text/plain": [
              "<Figure size 432x288 with 1 Axes>"
            ]
          },
          "metadata": {
            "needs_background": "light"
          },
          "output_type": "display_data"
        },
        {
          "data": {
            "image/png": "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",
            "text/plain": [
              "<Figure size 432x288 with 1 Axes>"
            ]
          },
          "metadata": {
            "needs_background": "light"
          },
          "output_type": "display_data"
        }
      ],
      "source": [
        "from matplotlib import pyplot as plt\n",
        "%matplotlib inline\n",
        "\n",
        "plt.imshow(x_train[0])\n",
        "plt.show()\n",
        "plt.imshow(x_train[10],cmap='coolwarm')\n",
        "plt.show()\n",
        "plt.imshow(x_train[20],cmap='binary')\n",
        "plt.show()"
      ]
    },
    {
      "attachments": {},
      "cell_type": "markdown",
      "metadata": {
        "id": "UOQ5RR79bN9r"
      },
      "source": [
        "### Display Labels"
      ]
    },
    {
      "cell_type": "code",
      "execution_count": 53,
      "metadata": {
        "colab": {
          "base_uri": "https://localhost:8080/"
        },
        "id": "yOisNlDxbS1T",
        "outputId": "5bfad382-c0ad-4965-9461-a8562fb060f5"
      },
      "outputs": [
        {
          "data": {
            "text/plain": [
              "4"
            ]
          },
          "execution_count": 53,
          "metadata": {},
          "output_type": "execute_result"
        }
      ],
      "source": [
        "y_train[20]"
      ]
    },
    {
      "cell_type": "code",
      "execution_count": 54,
      "metadata": {
        "colab": {
          "base_uri": "https://localhost:8080/"
        },
        "id": "bg0hQP8ubU_I",
        "outputId": "a239bfa6-4aeb-49eb-f1e4-0c958674c6e2"
      },
      "outputs": [
        {
          "name": "stdout",
          "output_type": "stream",
          "text": [
            "{0, 1, 2, 3, 4, 5, 6, 7, 8, 9}\n"
          ]
        }
      ],
      "source": [
        "# x_train[20]\n",
        "print(set(y_train))"
      ]
    },
    {
      "cell_type": "markdown",
      "metadata": {
        "id": "51k0cqQqcK_b"
      },
      "source": [
        "# Task 3: One Hot Encoding\n",
        "After this encoding, every label will be converted to a list with 10 elements and the element at index to the corresponding class will be set to 1, rest will be set to 0:\n",
        "\n",
        "| original label | one-hot encoded label |\n",
        "|------|------|\n",
        "| 5 | [0, 0, 0, 0, 0, 1, 0, 0, 0, 0] |\n",
        "| 7 | [0, 0, 0, 0, 0, 0, 0, 1, 0, 0] |\n",
        "| 1 | [0, 1, 0, 0, 0, 0, 0, 0, 0, 0] |\n",
        "\n",
        "### Encoding Labels"
      ]
    },
    {
      "cell_type": "code",
      "execution_count": 55,
      "metadata": {
        "id": "xDsYp0Qnd4Ny"
      },
      "outputs": [],
      "source": [
        "from tensorflow.keras.utils import to_categorical\n",
        "\n",
        "y_train_encoded = to_categorical(y_train)\n",
        "y_test_encoded = to_categorical(y_test)"
      ]
    },
    {
      "attachments": {},
      "cell_type": "markdown",
      "metadata": {
        "id": "nsi-9bUzeBcS"
      },
      "source": [
        "### Validated Shapes"
      ]
    },
    {
      "cell_type": "code",
      "execution_count": 56,
      "metadata": {
        "colab": {
          "base_uri": "https://localhost:8080/"
        },
        "id": "866tgaTleED2",
        "outputId": "111e74ea-28e2-49d7-962b-e139adcebd8b"
      },
      "outputs": [
        {
          "name": "stdout",
          "output_type": "stream",
          "text": [
            "y_train_encoded shape:  (60000, 10)\n",
            "y_test_encoded shape:  (10000, 10)\n"
          ]
        }
      ],
      "source": [
        "print('y_train_encoded shape: ',y_train_encoded.shape)\n",
        "print('y_test_encoded shape: ',y_test_encoded.shape)"
      ]
    },
    {
      "attachments": {},
      "cell_type": "markdown",
      "metadata": {
        "id": "QZElh5JIeJBp"
      },
      "source": [
        "### Display Encoded Labels"
      ]
    },
    {
      "cell_type": "code",
      "execution_count": 57,
      "metadata": {
        "colab": {
          "base_uri": "https://localhost:8080/"
        },
        "id": "VX0boyN2eLGF",
        "outputId": "4b13b170-1d6f-4ad8-c8a4-26f36f9301bd"
      },
      "outputs": [
        {
          "data": {
            "text/plain": [
              "array([0., 0., 0., 1., 0., 0., 0., 0., 0., 0.], dtype=float32)"
            ]
          },
          "execution_count": 57,
          "metadata": {},
          "output_type": "execute_result"
        }
      ],
      "source": [
        " y_train_encoded[10]"
      ]
    },
    {
      "attachments": {},
      "cell_type": "markdown",
      "metadata": {
        "id": "PdpSdtsdepUB"
      },
      "source": [
        "# Task 4: Neural Networks\n",
        "\n",
        "### Linear Equations\n",
        "\n",
        "![Single Neuron](1_2.png)\n",
        "\n",
        "The above graph simply represents the equation:\n",
        "\n",
        "\\begin{equation}\n",
        "y = w1 * x1 + w2 * x2 + w3 * x3 + b\n",
        "\\end{equation}\n",
        "\n",
        "Where the `w1, w2, w3` are called the weights and `b` is an intercept term called bias. The equation can also be *vectorised* like this:\n",
        "\n",
        "\\begin{equation}\n",
        "y = W . X + b\n",
        "\\end{equation}\n",
        "\n",
        "Where `X = [x1, x2, x3]` and `W = [w1, w2, w3].T`. The .T means *transpose*. This is because we want the dot product to give us the result we want i.e. `w1 * x1 + w2 * x2 + w3 * x3`. This gives us the vectorised version of our linear equation.\n",
        "\n",
        "A simple, linear approach to solving hand-written image classification problem - could it work?\n",
        "\n",
        "![Single Neuron with 784 features](1_3.png)\n",
        "\n",
        "### Neural Networks\n",
        "\n",
        "![Neural Network with 2 hidden layers](1_4.png)\n",
        "\n",
        "This model is much more likely to solve the problem as it can learn more complex function mapping for the inputs and outputs in our dataset."
      ]
    },
    {
      "attachments": {},
      "cell_type": "markdown",
      "metadata": {
        "id": "kTqeymjZew4r"
      },
      "source": [
        "# Task 5: Preprocessing the Examples\n",
        "\n",
        "### Unrolling N-dimensional Arrays to Vectors"
      ]
    },
    {
      "cell_type": "code",
      "execution_count": 58,
      "metadata": {
        "colab": {
          "base_uri": "https://localhost:8080/"
        },
        "id": "ofLacQ0AfEvS",
        "outputId": "9b9d7a6f-d0ed-49a3-b03f-c2915b619612"
      },
      "outputs": [
        {
          "name": "stdout",
          "output_type": "stream",
          "text": [
            "x_train_reshaped :  (60000, 784)\n",
            "x_test_reshaped :  (10000, 784)\n"
          ]
        }
      ],
      "source": [
        "import numpy as np\n",
        "\n",
        "x_train_reshaped = np.reshape(x_train,(60000,784))\n",
        "x_test_reshaped = np.reshape(x_test,(10000,784))\n",
        "\n",
        "print('x_train_reshaped : ', x_train_reshaped.shape)\n",
        "print('x_test_reshaped : ', x_test_reshaped.shape)"
      ]
    },
    {
      "cell_type": "markdown",
      "metadata": {
        "id": "l9Cg9u_EfVHe"
      },
      "source": [
        "### Display Pixel Values"
      ]
    },
    {
      "cell_type": "code",
      "execution_count": 59,
      "metadata": {
        "colab": {
          "base_uri": "https://localhost:8080/"
        },
        "id": "p2kE-BVnfWVg",
        "outputId": "5f0fe9a9-7dbb-4657-f16a-70ef1578c818"
      },
      "outputs": [
        {
          "name": "stdout",
          "output_type": "stream",
          "text": [
            "{0, 1, 128, 6, 7, 8, 137, 138, 139, 11, 141, 140, 18, 146, 19, 24, 25, 28, 31, 34, 164, 36, 166, 165, 40, 41, 42, 171, 177, 50, 51, 180, 239, 57, 63, 66, 197, 70, 73, 206, 207, 209, 210, 81, 84, 213, 214, 215, 89, 90, 219, 91, 93, 222, 224, 103, 232, 104, 105, 236, 238, 110, 112, 240, 242, 241, 244, 116, 118, 247, 246, 117, 250, 253, 254}\n"
          ]
        }
      ],
      "source": [
        "print(set(x_train_reshaped[10]))"
      ]
    },
    {
      "cell_type": "markdown",
      "metadata": {
        "id": "0Mmf9f7tfbG5"
      },
      "source": [
        "### Data Normalization"
      ]
    },
    {
      "cell_type": "code",
      "execution_count": 60,
      "metadata": {
        "id": "yNYPlWryfYQR"
      },
      "outputs": [],
      "source": [
        "x_mean = np.mean(x_train_reshaped)\n",
        "x_std = np.std(x_train_reshaped)\n",
        "\n",
        "# print(x_mean)\n",
        "# print(x_std)\n",
        "\n",
        "epsilon = 1e-10\n",
        "\n",
        "x_train_norm = (x_train_reshaped - x_mean) / (x_std + epsilon)\n",
        "x_test_norm = (x_test_reshaped - x_mean) / (x_std + epsilon)"
      ]
    },
    {
      "cell_type": "markdown",
      "metadata": {
        "id": "asoFSqXyfjst"
      },
      "source": [
        "### Display Normalized Pixel Values"
      ]
    },
    {
      "cell_type": "code",
      "execution_count": 61,
      "metadata": {
        "colab": {
          "base_uri": "https://localhost:8080/"
        },
        "id": "31SxD1sefgLb",
        "outputId": "641a9a45-9c08-49ab-b441-dbb2be2f91d7"
      },
      "outputs": [
        {
          "name": "stdout",
          "output_type": "stream",
          "text": [
            "{-0.4240738943910262, 1.0778195735660674, 2.3633385588513764, 1.6887592893452241, -0.34770642991863165, 0.8869009123850808, 2.6560805059955555, 2.8088154349403447, 0.4159682148053143, 2.5288013985415647, 2.6051688630139593, 2.681536327486354, 1.7523988430722195, -0.19497150097384247, 2.719720059722551, 2.706992148977152, 0.75962180493109, 2.083324522452596, 2.4015222910875735, 0.4668798577869107, 0.09777044617033681, 1.4342010744372422, 0.7214380726948927, 0.11049835691573591, 0.00867507095254312, 0.505063590023108, 1.8287663075446141, 2.426978112578372, 2.7960875241949457, 2.7579037919587486, -0.10587612575604877, 1.2050986810200583, 1.8669500397808114, 0.89962882313048, -0.41134598364562713, 0.912356733875879, -0.029508661283654175, -0.18224359022844336, 0.2250495536243278, 0.2123216428789287, 0.6068868759863008, 2.210603629906587, 2.2487873621427843, 2.197875719161188, 2.2360594513973853, 2.579713041523161, 0.3014170180967224, -0.33497851917323257, 0.6450706082224981, 0.9759962876028746, -0.32225060842783343, -0.11860403650144787, 0.08504253542493771, -0.06769239351985147, 0.03413089244334132, 1.3196498777286503, 1.0014521090936728, 1.3323777884740493, 1.6633034678544258, 1.3451056992194483, 2.299699005124381, 2.6306246845047574, 2.31242691586978, 2.6433525952501564, 2.286971094378982, -0.2840668761916362, 0.7087101619494935, 0.377784482569117, 1.0650916628206684, 2.6178967737593584, 1.3705615207102466, 1.052363752075269, 1.3578336099648476, 0.7341659834402917, 1.676031378599825}\n"
          ]
        }
      ],
      "source": [
        "print(set(x_train_norm[10]))"
      ]
    },
    {
      "attachments": {},
      "cell_type": "markdown",
      "metadata": {
        "id": "gQ6-7NKmfqFf"
      },
      "source": [
        "# Task 6: Creating a Model\n",
        "\n",
        "### Creating the Model"
      ]
    },
    {
      "cell_type": "code",
      "execution_count": 62,
      "metadata": {
        "id": "aKlK3SbLfmn2"
      },
      "outputs": [],
      "source": [
        "from tensorflow.keras.models import Sequential\n",
        "from tensorflow.keras.layers import Dense\n",
        "\n",
        "model = Sequential([\n",
        "    Dense(128,activation='relu', input_shape=(784,)),\n",
        "    Dense(128, activation='relu'),\n",
        "    Dense(10, activation='softmax')\n",
        "])"
      ]
    },
    {
      "attachments": {},
      "cell_type": "markdown",
      "metadata": {
        "id": "ukgAlcl4fz5t"
      },
      "source": [
        "### Activation Functions\n",
        "\n",
        "The first step in the node is the linear sum of the inputs:\n",
        "\\begin{equation}\n",
        "Z = W . X + b\n",
        "\\end{equation}\n",
        "\n",
        "The second step in the node is the activation function output:\n",
        "\n",
        "\\begin{equation}\n",
        "A = f(Z)\n",
        "\\end{equation}\n",
        "\n",
        "Graphical representation of a node where the two operations are performed:\n",
        "\n",
        "![ReLU](1_5.png)\n",
        "\n",
        "### Compiling the Model"
      ]
    },
    {
      "cell_type": "code",
      "execution_count": 63,
      "metadata": {
        "colab": {
          "base_uri": "https://localhost:8080/"
        },
        "id": "7tURX8Oifukv",
        "outputId": "fc4d1c86-d641-4e7f-a601-d151c1903a29"
      },
      "outputs": [
        {
          "name": "stdout",
          "output_type": "stream",
          "text": [
            "Model: \"sequential_2\"\n",
            "_________________________________________________________________\n",
            " Layer (type)                Output Shape              Param #   \n",
            "=================================================================\n",
            " dense_6 (Dense)             (None, 128)               100480    \n",
            "                                                                 \n",
            " dense_7 (Dense)             (None, 128)               16512     \n",
            "                                                                 \n",
            " dense_8 (Dense)             (None, 10)                1290      \n",
            "                                                                 \n",
            "=================================================================\n",
            "Total params: 118,282\n",
            "Trainable params: 118,282\n",
            "Non-trainable params: 0\n",
            "_________________________________________________________________\n"
          ]
        }
      ],
      "source": [
        "model.compile(\n",
        "    optimizer='sgd',\n",
        "    loss='categorical_crossentropy',\n",
        "    metrics=['accuracy']\n",
        ")\n",
        "\n",
        "model.summary()"
      ]
    },
    {
      "cell_type": "markdown",
      "metadata": {
        "id": "NODzA_BRjFS7"
      },
      "source": [
        "# Task 7: Training the Model\n",
        "\n",
        "### Training the Model"
      ]
    },
    {
      "cell_type": "code",
      "execution_count": 64,
      "metadata": {
        "colab": {
          "base_uri": "https://localhost:8080/"
        },
        "id": "RkpoxcAHf5mk",
        "outputId": "6fcb7e22-bd65-4dca-f229-53df35061e04"
      },
      "outputs": [
        {
          "name": "stdout",
          "output_type": "stream",
          "text": [
            "Epoch 1/10\n",
            "1875/1875 [==============================] - 25s 14ms/step - loss: 0.3602 - accuracy: 0.8950\n",
            "Epoch 2/10\n",
            "1875/1875 [==============================] - 26s 14ms/step - loss: 0.1793 - accuracy: 0.9480\n",
            "Epoch 3/10\n",
            "1875/1875 [==============================] - 25s 13ms/step - loss: 0.1358 - accuracy: 0.9609\n",
            "Epoch 4/10\n",
            "1875/1875 [==============================] - 25s 14ms/step - loss: 0.1114 - accuracy: 0.9671\n",
            "Epoch 5/10\n",
            "1875/1875 [==============================] - 25s 13ms/step - loss: 0.0944 - accuracy: 0.9726\n",
            "Epoch 6/10\n",
            "1875/1875 [==============================] - 25s 13ms/step - loss: 0.0813 - accuracy: 0.9762\n",
            "Epoch 7/10\n",
            "1875/1875 [==============================] - 66s 35ms/step - loss: 0.0709 - accuracy: 0.9790\n",
            "Epoch 8/10\n",
            "1875/1875 [==============================] - 26s 14ms/step - loss: 0.0627 - accuracy: 0.9815\n",
            "Epoch 9/10\n",
            "1875/1875 [==============================] - 25s 13ms/step - loss: 0.0555 - accuracy: 0.9836\n",
            "Epoch 10/10\n",
            "1875/1875 [==============================] - 25s 13ms/step - loss: 0.0497 - accuracy: 0.9855\n"
          ]
        },
        {
          "data": {
            "text/plain": [
              "<keras.callbacks.History at 0x7f8f99054d60>"
            ]
          },
          "execution_count": 64,
          "metadata": {},
          "output_type": "execute_result"
        }
      ],
      "source": [
        "model.fit(x_train_norm, y_train_encoded, epochs=10)"
      ]
    },
    {
      "cell_type": "markdown",
      "metadata": {
        "id": "YppMpefbjXyc"
      },
      "source": [
        "### Evaluating the Model"
      ]
    },
    {
      "cell_type": "code",
      "execution_count": 65,
      "metadata": {
        "colab": {
          "base_uri": "https://localhost:8080/"
        },
        "id": "s-K8KJaGjbAM",
        "outputId": "2397510d-924f-4c01-d89a-d81fd7ec081a"
      },
      "outputs": [
        {
          "name": "stdout",
          "output_type": "stream",
          "text": [
            "313/313 [==============================] - 2s 8ms/step - loss: 0.0833 - accuracy: 0.9735\n",
            "Test set accuracy:  97.35000133514404\n"
          ]
        }
      ],
      "source": [
        "loss, accuracy = model.evaluate(x_test_norm, y_test_encoded)\n",
        "print('Test set accuracy: ',accuracy * 100)"
      ]
    },
    {
      "cell_type": "markdown",
      "metadata": {
        "id": "wLI8tC9ijeMX"
      },
      "source": [
        "# Task 8: Predictions\n",
        "\n",
        "### Predictions on Test Set"
      ]
    },
    {
      "cell_type": "code",
      "execution_count": 66,
      "metadata": {
        "colab": {
          "base_uri": "https://localhost:8080/"
        },
        "id": "vZKzEsCRje-W",
        "outputId": "13998a3a-c89f-4892-adcc-18487c9360af"
      },
      "outputs": [
        {
          "name": "stdout",
          "output_type": "stream",
          "text": [
            "313/313 [==============================] - 1s 3ms/step\n",
            "Shape of preds:  (10000, 10)\n"
          ]
        }
      ],
      "source": [
        "preds = model.predict(x_test_norm)\n",
        "print('Shape of preds: ', preds.shape)"
      ]
    },
    {
      "cell_type": "markdown",
      "metadata": {
        "id": "A6xOd7cU-not"
      },
      "source": [
        "### Print Predictions"
      ]
    },
    {
      "cell_type": "code",
      "execution_count": 67,
      "metadata": {
        "colab": {
          "base_uri": "https://localhost:8080/"
        },
        "id": "l0WojbPD-jb0",
        "outputId": "8d6e0620-a5a8-48ed-eed7-9194ea328d46"
      },
      "outputs": [
        {
          "data": {
            "text/plain": [
              "7"
            ]
          },
          "execution_count": 67,
          "metadata": {},
          "output_type": "execute_result"
        }
      ],
      "source": [
        "np.argmax(preds[0])"
      ]
    },
    {
      "cell_type": "markdown",
      "metadata": {
        "id": "cMeA2y_5jiOk"
      },
      "source": [
        "### Plotting the Results"
      ]
    },
    {
      "cell_type": "code",
      "execution_count": 68,
      "metadata": {
        "colab": {
          "base_uri": "https://localhost:8080/",
          "height": 589
        },
        "id": "vsSREvWEji9t",
        "outputId": "5b0b6030-75d1-4b06-cfaa-1bc96fdeec69"
      },
      "outputs": [
        {
          "data": {
            "image/png": "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",
            "text/plain": [
              "<Figure size 720x720 with 25 Axes>"
            ]
          },
          "metadata": {},
          "output_type": "display_data"
        }
      ],
      "source": [
        "plt.figure(figsize=(10,10))\n",
        "\n",
        "start_index = 0\n",
        "\n",
        "for i in range(25):\n",
        "  plt.subplot(5, 5, i+1)\n",
        "  plt.grid(False)\n",
        "  plt.xticks([])\n",
        "  plt.yticks([])\n",
        "\n",
        "  pred = np.argmax(preds[start_index + i])\n",
        "  gt = y_test[start_index + i]\n",
        "\n",
        "  col = 'g'\n",
        "  if pred != gt:\n",
        "    col = 'r'\n",
        "\n",
        "  plt.xlabel('i={}, pred={}, gt={}'.format(start_index + i, pred, gt), color=col)\n",
        "  plt.imshow(x_test[start_index + i], cmap='binary')\n",
        "plt.show()"
      ]
    },
    {
      "cell_type": "code",
      "execution_count": 69,
      "metadata": {
        "colab": {
          "base_uri": "https://localhost:8080/",
          "height": 265
        },
        "id": "-_WCaWCesV0d",
        "outputId": "4a28c906-bbed-478a-c466-482401d9f056"
      },
      "outputs": [
        {
          "data": {
            "image/png": "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",
            "text/plain": [
              "<Figure size 432x288 with 1 Axes>"
            ]
          },
          "metadata": {
            "needs_background": "light"
          },
          "output_type": "display_data"
        }
      ],
      "source": [
        "plt.plot(preds[24])\n",
        "plt.show()"
      ]
    },
    {
      "cell_type": "code",
      "execution_count": 70,
      "metadata": {
        "colab": {
          "base_uri": "https://localhost:8080/"
        },
        "id": "Ns90-610DWPm",
        "outputId": "7949db5d-1c3f-44f8-e226-13ee34e731aa"
      },
      "outputs": [
        {
          "name": "stderr",
          "output_type": "stream",
          "text": [
            "/usr/local/lib/python3.8/dist-packages/tensorflow/python/data/ops/structured_function.py:264: UserWarning: Even though the `tf.config.experimental_run_functions_eagerly` option is set, this option does not apply to tf.data functions. To force eager execution of tf.data functions, please use `tf.data.experimental.enable_debug_mode()`.\n",
            "  warnings.warn(\n"
          ]
        },
        {
          "name": "stdout",
          "output_type": "stream",
          "text": [
            "dict_keys(['loss', 'accuracy', 'val_loss', 'val_accuracy'])\n"
          ]
        }
      ],
      "source": [
        "history = model.fit(x_train_norm, y_train_encoded, validation_split=0.33, epochs=10, batch_size=10, verbose=0)\n",
        "# list all data in history\n",
        "print(history.history.keys())"
      ]
    },
    {
      "cell_type": "code",
      "execution_count": 71,
      "metadata": {
        "colab": {
          "base_uri": "https://localhost:8080/",
          "height": 295
        },
        "id": "Eyxcq9uVDXtV",
        "outputId": "97910f45-25d2-42a8-f8db-7b5090eb3611"
      },
      "outputs": [
        {
          "data": {
            "image/png": "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",
            "text/plain": [
              "<Figure size 432x288 with 1 Axes>"
            ]
          },
          "metadata": {
            "needs_background": "light"
          },
          "output_type": "display_data"
        }
      ],
      "source": [
        "plt.plot(history.history['accuracy'])\n",
        "plt.plot(history.history['val_accuracy'])\n",
        "plt.title('model accuracy')\n",
        "plt.ylabel('accuracy')\n",
        "plt.xlabel('epoch')\n",
        "plt.legend(['train', 'test'], loc='upper left')\n",
        "plt.show()"
      ]
    },
    {
      "cell_type": "code",
      "execution_count": 72,
      "metadata": {
        "colab": {
          "base_uri": "https://localhost:8080/",
          "height": 295
        },
        "id": "801leBqoDYoE",
        "outputId": "40051f5b-0f38-43ec-adc8-6b7164f12766"
      },
      "outputs": [
        {
          "data": {
            "image/png": "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",
            "text/plain": [
              "<Figure size 432x288 with 1 Axes>"
            ]
          },
          "metadata": {
            "needs_background": "light"
          },
          "output_type": "display_data"
        }
      ],
      "source": [
        "plt.plot(history.history['loss'])\n",
        "plt.plot(history.history['val_loss'])\n",
        "plt.title('model loss')\n",
        "plt.ylabel('loss')\n",
        "plt.xlabel('epoch')\n",
        "plt.legend(['train', 'test'], loc='upper left')\n",
        "plt.show()"
      ]
    }
  ],
  "metadata": {
    "colab": {
      "provenance": []
    },
    "kernelspec": {
      "display_name": "Python 3",
      "name": "python3"
    },
    "language_info": {
      "name": "python"
    }
  },
  "nbformat": 4,
  "nbformat_minor": 0
}
